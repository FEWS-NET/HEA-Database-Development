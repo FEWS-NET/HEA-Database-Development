{
 "cells": [
  {
   "cell_type": "code",
   "execution_count": null,
   "metadata": {},
   "outputs": [],
   "source": [
    "import os\n",
    "%cd {os.environ['PWD']}\n",
    "\n",
    "from django.conf import settings\n",
    "import django\n",
    "\n",
    "os.environ[\"DJANGO_ALLOW_ASYNC_UNSAFE\"] = \"true\"\n",
    "\n",
    "django.setup()"
   ]
  },
  {
   "cell_type": "markdown",
   "metadata": {},
   "source": [
    "### check apps and models available in HEA for reference"
   ]
  },
  {
   "cell_type": "code",
   "execution_count": null,
   "metadata": {},
   "outputs": [],
   "source": [
    "from django.apps import apps\n",
    "\n",
    "# list of all installed apps\n",
    "all_apps = apps.get_app_configs()\n",
    "\n",
    "for app in all_apps:\n",
    "    print(\"app: \", app.name)\n",
    "    for model in app.get_models():\n",
    "        print(\"model: \", model.__name__)\n",
    "        "
   ]
  },
  {
   "cell_type": "markdown",
   "metadata": {},
   "source": [
    "### Load libraries needed"
   ]
  },
  {
   "cell_type": "code",
   "execution_count": null,
   "metadata": {},
   "outputs": [],
   "source": [
    "# import libraries\n",
    "import pandas as pd\n",
    "import numpy as np\n",
    "\n",
    "pd.set_option('display.max_columns', None)\n",
    "pd.set_option('display.max_rows', None)"
   ]
  },
  {
   "cell_type": "markdown",
   "metadata": {},
   "source": [
    "### Load the datasets needed"
   ]
  },
  {
   "cell_type": "code",
   "execution_count": null,
   "metadata": {},
   "outputs": [],
   "source": [
    "# Get Key wealth breakdown data extract\n",
    "df = pd.read_csv('./Jupyter/bss_extracts/data_WB.csv')\n",
    "df_temp = df.T\n",
    "# df_temp.columns = df.iloc[0]\n",
    "# df_temp = df_temp.drop(df.index[0])\n",
    "df_temp[2] = df_temp[2].str.capitalize()\n",
    "df_temp.iloc[0] = df_temp.iloc[0].str.lower()\n",
    "\n",
    "df_temp.head(3)"
   ]
  },
  {
   "cell_type": "code",
   "execution_count": null,
   "metadata": {},
   "outputs": [],
   "source": [
    "df = df_temp.T\n",
    "df.sample(10)"
   ]
  },
  {
   "cell_type": "code",
   "execution_count": null,
   "metadata": {},
   "outputs": [],
   "source": [
    "# df['bss_year'] = df['bss_name'].str.split().str[-1] + '-01-01'\n",
    "row_index = 0\n",
    "for col in df.columns:\n",
    "    if isinstance(df.loc[row_index, col], str):  # Check if the cell contains a string\n",
    "        df.loc[row_index, 'bss_year'] = df.loc[row_index, col].split()[-1] + '-01-01'\n",
    "\n",
    "\n",
    "# display a few rows of the dataset to see structure\n",
    "df.head(8)"
   ]
  },
  {
   "cell_type": "code",
   "execution_count": null,
   "metadata": {},
   "outputs": [],
   "source": [
    "'''\n",
    "Load the countries data. Data extracted from FDW. \n",
    "filter the data to only contain the countries whose BSS are available.\n",
    "Display a few rows of the data to explore\n",
    "'''\n",
    "countries_df = pd.read_csv('./Jupyter/bss_extracts/Country.csv')\n",
    "\n",
    "# BSS Countries \n",
    "countries = [\n",
    "    \"Somalia\", \"Niger\", \"Malawi\", \"Madagascar\", \"Haiti\", \"Guatemala\", \n",
    "    \"Democratic Republic of the Congo\", \"Burkina Faso\", \"Liberia\", \n",
    "    \"Sierra Leone\", \"Senegal\"\n",
    "]\n",
    "\n",
    "bss_countries = countries_df[countries_df['iso_en_name'].isin(countries)].copy()\n",
    "\n",
    "# remove non printable characters from the iso3266a2 column\n",
    "bss_countries.loc[:, 'iso3166a2'] = bss_countries['iso3166a2'].str.replace(r'[^\\x20-\\x7E]', '', regex=True)\n",
    "\n",
    "# since original countries data received does not have iso_en_proper, create the column and make it equal to the name column\n",
    "bss_countries.loc[:, 'iso_en_proper'] = bss_countries['iso_en_name']\n",
    "\n",
    "# reset index for tidiness\n",
    "bss_countries.reset_index(drop=True, inplace=True)\n",
    "\n",
    "\n",
    "bss_countries.head()"
   ]
  },
  {
   "cell_type": "markdown",
   "metadata": {},
   "source": [
    "### Explore the modesl to see what fields are needed while adding data based on dependencies"
   ]
  },
  {
   "cell_type": "markdown",
   "metadata": {},
   "source": [
    "### Add Countries data to the Country table"
   ]
  },
  {
   "cell_type": "code",
   "execution_count": null,
   "metadata": {},
   "outputs": [],
   "source": [
    "from common.models import Country\n",
    "\n",
    "for index, row in bss_countries.iterrows():\n",
    "    # Assuming you're creating new instances:\n",
    "    model_instance = Country(\n",
    "        iso3166a2=row['iso3166a2'],\n",
    "        iso3166a3=row['iso3166a3'],\n",
    "        iso_en_name=row['iso_en_name'],\n",
    "        name=row['iso_en_name'],\n",
    "        iso3166n3=row['iso3166n3'],\n",
    "        iso_en_proper=row['iso_en_proper'],\n",
    "        iso_en_ro_name=row['iso_en_ro_name'],\n",
    "        iso_en_ro_proper=row['iso_en_ro_proper'],\n",
    "        iso_fr_name=row['iso_fr_name'], \n",
    "        iso_fr_proper=row['iso_fr_proper'],\n",
    "        iso_es_name=row['iso_es_name'],\n",
    "        \n",
    "    )\n",
    "    model_instance.save()\n"
   ]
  },
  {
   "cell_type": "markdown",
   "metadata": {},
   "source": [
    "### Add wealth categories"
   ]
  },
  {
   "cell_type": "code",
   "execution_count": null,
   "metadata": {},
   "outputs": [],
   "source": [
    "from metadata.models import WealthCategory\n",
    "fields = WealthCategory._meta.fields\n",
    "fields"
   ]
  },
  {
   "cell_type": "code",
   "execution_count": null,
   "metadata": {},
   "outputs": [],
   "source": [
    "wealth_cat_df = pd.read_csv('./Jupyter/bss_extracts/wealth_categories.csv')\n",
    "\n",
    "from metadata.models import WealthCategory\n",
    "\n",
    "for index, row in wealth_cat_df.iterrows():\n",
    "    \n",
    "    # Assuming we're creating new instances:\n",
    "    model_instance = WealthCategory(\n",
    "        code=row['code'],\n",
    "        name=row['description'],\n",
    "        description=row['description'],\n",
    "    )\n",
    "    model_instance.save()\n"
   ]
  },
  {
   "cell_type": "markdown",
   "metadata": {},
   "source": [
    "### Add LivelihoodZone data"
   ]
  },
  {
   "cell_type": "code",
   "execution_count": null,
   "metadata": {},
   "outputs": [],
   "source": [
    "from baseline.models import LivelihoodZone\n",
    "fields = LivelihoodZone._meta.fields\n",
    "\n",
    "fields"
   ]
  },
  {
   "cell_type": "code",
   "execution_count": null,
   "metadata": {},
   "outputs": [],
   "source": [
    "df_LZ = pd.read_csv('./Jupyter/bss_extracts/LZ.csv')\n",
    "df_LZ.bss_country = df_LZ['bss_country'].str.capitalize()\n",
    "\n",
    "df_LZ.head()"
   ]
  },
  {
   "cell_type": "code",
   "execution_count": null,
   "metadata": {},
   "outputs": [],
   "source": [
    "\n",
    "from baseline.models import LivelihoodZone\n",
    "from common.models import Country\n",
    "\n",
    "for index, row in df_LZ.iterrows():\n",
    "    try:\n",
    "        country_obj = Country.objects.get(name=row['bss_country'])  # Assuming countries are unique by name.\n",
    "        \n",
    "        # Create a new instance of LivelihoodZone\n",
    "        model_instance = LivelihoodZone(\n",
    "            code=row['code'],\n",
    "            name=row['livelihood_zone'],\n",
    "            # description=row['bss_name'],\n",
    "            country=country_obj  # Set the country field to the Country instance\n",
    "        )\n",
    "        model_instance.save()\n",
    "        print(f\"Saved LivelihoodZone with code: {row['bss_name']}\")\n",
    "    \n",
    "    except Country.DoesNotExist:\n",
    "        print(f\"Country not found for name: {row['bss_country']}\")\n",
    "    except Exception as e:\n",
    "        print(f\"Error on row {index}: {e}\")\n",
    "\n"
   ]
  },
  {
   "cell_type": "markdown",
   "metadata": {},
   "source": [
    "### Add Livelihood categories"
   ]
  },
  {
   "cell_type": "code",
   "execution_count": null,
   "metadata": {},
   "outputs": [],
   "source": [
    "from metadata.models import LivelihoodCategory\n",
    "fields = LivelihoodCategory._meta.fields\n",
    "fields"
   ]
  },
  {
   "cell_type": "code",
   "execution_count": null,
   "metadata": {},
   "outputs": [],
   "source": [
    "LZ_baseline = pd.read_csv('./Jupyter/bss_extracts/LZ_baseline.csv')\n",
    "\n",
    "from metadata.models import LivelihoodCategory\n",
    "\n",
    "for index, row in LZ_baseline.iterrows():\n",
    "    # Assuming you're creating new instances:\n",
    "    model_instance = LivelihoodCategory(\n",
    "        code=row['code'],\n",
    "        name=row['category'],\n",
    "        description=row['category'],\n",
    "        \n",
    "    )\n",
    "    model_instance.save()\n"
   ]
  },
  {
   "cell_type": "markdown",
   "metadata": {},
   "source": [
    "### Adding source organizations"
   ]
  },
  {
   "cell_type": "code",
   "execution_count": null,
   "metadata": {},
   "outputs": [],
   "source": [
    "from baseline.models import SourceOrganization\n",
    "fields = SourceOrganization._meta.fields\n",
    "fields"
   ]
  },
  {
   "cell_type": "code",
   "execution_count": null,
   "metadata": {},
   "outputs": [],
   "source": [
    "source_org = pd.read_csv('Jupyter/bss_extracts/source_org.csv')\n",
    "from baseline.models import SourceOrganization\n",
    "\n",
    "for index, row in source_org.iterrows():\n",
    "\n",
    "    model_instance = SourceOrganization(\n",
    "        name=row['name'],\n",
    "        full_name=row['full_name'],\n",
    "        description=row['full_name'],\n",
    "        \n",
    "    )\n",
    "    model_instance.save()"
   ]
  },
  {
   "cell_type": "markdown",
   "metadata": {},
   "source": [
    "### Add Livelihood_baseline"
   ]
  },
  {
   "cell_type": "code",
   "execution_count": null,
   "metadata": {},
   "outputs": [],
   "source": [
    "from baseline.models import LivelihoodZoneBaseline\n",
    "fields = LivelihoodZoneBaseline._meta.fields\n",
    "\n",
    "fields"
   ]
  },
  {
   "cell_type": "code",
   "execution_count": null,
   "metadata": {},
   "outputs": [],
   "source": [
    "LZ_baseline['geography'] = bss_countries['bbox']\n",
    "LZ_baseline.head()"
   ]
  },
  {
   "cell_type": "code",
   "execution_count": null,
   "metadata": {},
   "outputs": [],
   "source": [
    "from baseline.models import LivelihoodZoneBaseline, LivelihoodZone, SourceOrganization\n",
    "from metadata.models import LivelihoodCategory\n",
    "\n",
    "for index, row in LZ_baseline.iterrows():\n",
    "    # For ForeignKey fields, create the related instances\n",
    "    livelihood_zone, _ = LivelihoodZone.objects.get_or_create(name=row['livelihood_zone'])\n",
    "    main_livelihood_category, _ = LivelihoodCategory.objects.get_or_create(name=row['category'])\n",
    "    Source_Organization, _ = SourceOrganization.objects.get_or_create(name=row['source_organization'])\n",
    "    \n",
    "\n",
    "    # Create a new instance of the model and populate the fields\n",
    "    model_instance = LivelihoodZoneBaseline(\n",
    "        livelihood_zone=livelihood_zone,\n",
    "        main_livelihood_category=main_livelihood_category,\n",
    "        # bss=row['file_url'],\n",
    "        # geography=row['geography'],\n",
    "        source_organization=Source_Organization,\n",
    "        reference_year_start_date=row['bss_year'],\n",
    "        reference_year_end_date=row['bss_year'],\n",
    "        valid_from_date=row['bss_year'],\n",
    "        valid_to_date=row['bss_year']\n",
    "    )\n",
    "    \n",
    "    # Save the instance to the database\n",
    "    model_instance.save()\n"
   ]
  },
  {
   "cell_type": "markdown",
   "metadata": {},
   "source": [
    "### Adding community data"
   ]
  },
  {
   "cell_type": "code",
   "execution_count": null,
   "metadata": {},
   "outputs": [],
   "source": [
    "from baseline.models import Community\n",
    "fields = Community._meta.fields\n",
    "fields"
   ]
  },
  {
   "cell_type": "code",
   "execution_count": null,
   "metadata": {},
   "outputs": [],
   "source": [
    "community_df.columns"
   ]
  },
  {
   "cell_type": "code",
   "execution_count": null,
   "metadata": {},
   "outputs": [],
   "source": [
    "community_df = pd.read_csv('./Jupyter/bss_extracts/community_df2.csv')\n",
    "from baseline.models import Community, LivelihoodZoneBaseline\n",
    "\n",
    "for index, row in community_df.iterrows():\n",
    "    # Fetch or create the related LivelihoodZoneBaseline instance\n",
    "    lzb = LivelihoodZoneBaseline.objects.filter(livelihood_zone=row['code']).first()\n",
    "    if lzb is None:\n",
    "        # If no matching LivelihoodZoneBaseline was found, create one\n",
    "        lzb = LivelihoodZoneBaseline.objects.create(livelihood_zone=row['code'])\n",
    "    \n",
    "    model_instance = Community(\n",
    "        name=row['Village'],\n",
    "        livelihood_zone_baseline=lzb,\n",
    "        # geography=row['District'], # Assuming this column should be mapped to the 'geography' field\n",
    "        interview_number=row['Interview number:'],\n",
    "        interviewers=row['Interviewers']\n",
    "    )\n",
    "    model_instance.save()\n"
   ]
  },
  {
   "cell_type": "markdown",
   "metadata": {},
   "source": [
    "### Adding WealthGroup data"
   ]
  },
  {
   "cell_type": "code",
   "execution_count": null,
   "metadata": {},
   "outputs": [],
   "source": [
    "# load the app model\n",
    "from baseline.models import WealthGroup\n",
    "fields = WealthGroup._meta.fields\n",
    "\n",
    "fields"
   ]
  },
  {
   "cell_type": "code",
   "execution_count": null,
   "metadata": {},
   "outputs": [],
   "source": []
  },
  {
   "cell_type": "code",
   "execution_count": null,
   "metadata": {},
   "outputs": [],
   "source": []
  },
  {
   "cell_type": "code",
   "execution_count": null,
   "metadata": {},
   "outputs": [],
   "source": []
  }
 ],
 "metadata": {
  "kernelspec": {
   "display_name": "Python 3 (ipykernel)",
   "language": "python",
   "name": "python3"
  },
  "language_info": {
   "codemirror_mode": {
    "name": "ipython",
    "version": 3
   },
   "file_extension": ".py",
   "mimetype": "text/x-python",
   "name": "python",
   "nbconvert_exporter": "python",
   "pygments_lexer": "ipython3",
   "version": "3.10.12"
  }
 },
 "nbformat": 4,
 "nbformat_minor": 4
}
